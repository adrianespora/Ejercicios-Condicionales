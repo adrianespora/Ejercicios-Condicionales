{
 "cells": [
  {
   "cell_type": "markdown",
   "metadata": {},
   "source": [
    "Ejercicio 7\n",
    "Los tramos impositivos para la declaración de la renta en un determinado país son los siguientes:\n",
    "                Renta\t    Tipo impositivo\n",
    "    Menos de 10000€  \t    5%\n",
    "Entre 10000€ y 20000€\t    15%\n",
    "Entre 20000€ y 35000€\t    20%\n",
    "Entre 35000€ y 60000€\t    30%\n",
    "    Más de 60000€\t        45%\n",
    "    \n",
    "Escribir un programa que pregunte al usuario su renta anual y muestre por pantalla el tipo impositivo que le corresponde."
   ]
  },
  {
   "cell_type": "code",
   "execution_count": 15,
   "metadata": {},
   "outputs": [
    {
     "name": "stdin",
     "output_type": "stream",
     "text": [
      "Ingrese su renta anual:  120000\n"
     ]
    },
    {
     "name": "stdout",
     "output_type": "stream",
     "text": [
      "Le corresponde un 45%\n"
     ]
    }
   ],
   "source": [
    "renta = float(input(\"Ingrese su renta anual: \"))\n",
    "if renta <10000:\n",
    "    print(\"Le corresponde un 5%\")\n",
    "if (renta >=10000 and renta<20000):\n",
    "    print(\"Le corresponde un 15%\")\n",
    "if (renta >=20000 and renta<35000):\n",
    "    print(\"Le corresponde un 20%\")\n",
    "if (renta >=35000 and renta<60000):\n",
    "    print(\"Le corresponde un 30%\")\n",
    "if renta >=60000:\n",
    "    print(\"Le corresponde un 45%\")"
   ]
  },
  {
   "cell_type": "code",
   "execution_count": null,
   "metadata": {},
   "outputs": [],
   "source": []
  }
 ],
 "metadata": {
  "kernelspec": {
   "display_name": "Python 3",
   "language": "python",
   "name": "python3"
  },
  "language_info": {
   "codemirror_mode": {
    "name": "ipython",
    "version": 3
   },
   "file_extension": ".py",
   "mimetype": "text/x-python",
   "name": "python",
   "nbconvert_exporter": "python",
   "pygments_lexer": "ipython3",
   "version": "3.8.5"
  }
 },
 "nbformat": 4,
 "nbformat_minor": 4
}
