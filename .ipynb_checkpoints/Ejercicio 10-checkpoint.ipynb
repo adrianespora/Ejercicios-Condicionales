{
 "cells": [
  {
   "cell_type": "markdown",
   "metadata": {},
   "source": [
    "Ejercicio 10\n",
    "La pizzería Bella Napoli ofrece pizzas vegetarianas y no vegetarianas a sus clientes. Los ingredientes para cada tipo de pizza aparecen a continuación.\n",
    "\n",
    "Ingredientes vegetarianos: Pimiento y tofu.\n",
    "Ingredientes no vegetarianos: Peperoni, Jamón y Salmón.\n",
    "Escribir un programa que pregunte al usuario si quiere una pizza vegetariana o no, y en función de su respuesta le muestre un menú con los ingredientes disponibles para que elija. Solo se puede eligir un ingrediente además de la mozzarella y el tomate que están en todas la pizzas. Al final se debe mostrar por pantalla si la pizza elegida es vegetariana o no y todos los ingredientes que lleva."
   ]
  },
  {
   "cell_type": "code",
   "execution_count": 1,
   "metadata": {},
   "outputs": [
    {
     "name": "stdout",
     "output_type": "stream",
     "text": [
      "Que pizza prefiere llevar? \n",
      " Opcion 1 - Vegetariana\n",
      " Opcion 2 - No vegetariana\n"
     ]
    },
    {
     "name": "stdin",
     "output_type": "stream",
     "text": [
      "Elija 1 o 2:  1\n"
     ]
    },
    {
     "name": "stdout",
     "output_type": "stream",
     "text": [
      "La pizza vegetariana, puede ir acompañada con: \n",
      " Opcion 1 - Pimiento \n",
      " Opcion 2 - tofu\n"
     ]
    },
    {
     "name": "stdin",
     "output_type": "stream",
     "text": [
      "Elija 1 o 2 :  2\n"
     ]
    },
    {
     "name": "stdout",
     "output_type": "stream",
     "text": [
      "Ud lleva una pizza Vegetariana con Tofu\n"
     ]
    }
   ],
   "source": [
    "print(\"Que pizza prefiere llevar? \\n Opcion 1 - Vegetariana\\n Opcion 2 - No vegetariana\")\n",
    "menu = input(\"Elija 1 o 2: \")\n",
    "if menu == \"1\":\n",
    "    print(\"La pizza vegetariana, puede ir acompañada con: \\n Opcion 1 - Pimiento \\n Opcion 2 - tofu\")\n",
    "    opcionvege = input(\"Elija 1 o 2 : \")\n",
    "    if opcionvege == \"1\":\n",
    "        print(\"Ud lleva una pizza Vegetariana con Pimiento\")\n",
    "    if opcionvege == \"2\":\n",
    "        print(\"Ud lleva una pizza Vegetariana con Tofu\")\n",
    "if menu == \"2\":\n",
    "    print(\"La pizza No vegetariana, puede ir acompañada con: \\n Opcion 1 - Peperoni\\n Opcion 2 - Jamon \\n Opcion 3 - Salmon\")\n",
    "    opcionNovege = input(\"Elija 1, 2 o 3 : \")\n",
    "    if opcionNovege == \"1\":\n",
    "        print(\"Ud lleva una pizza No Vegetariana con Peperoni\")\n",
    "    if opcionNovege == \"2\":\n",
    "        print(\"Ud lleva una pizza No Vegetariana con Jamon\")\n",
    "    if opcionNovege == \"3\":\n",
    "        print(\"Ud lleva una pizza No Vegetariana con Salmon\") \n"
   ]
  },
  {
   "cell_type": "code",
   "execution_count": null,
   "metadata": {},
   "outputs": [],
   "source": []
  }
 ],
 "metadata": {
  "kernelspec": {
   "display_name": "Python 3",
   "language": "python",
   "name": "python3"
  },
  "language_info": {
   "codemirror_mode": {
    "name": "ipython",
    "version": 3
   },
   "file_extension": ".py",
   "mimetype": "text/x-python",
   "name": "python",
   "nbconvert_exporter": "python",
   "pygments_lexer": "ipython3",
   "version": "3.8.5"
  }
 },
 "nbformat": 4,
 "nbformat_minor": 4
}
