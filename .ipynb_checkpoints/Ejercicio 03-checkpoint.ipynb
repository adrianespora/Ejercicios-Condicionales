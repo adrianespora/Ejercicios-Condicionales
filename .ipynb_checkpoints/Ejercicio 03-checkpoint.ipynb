{
 "cells": [
  {
   "cell_type": "markdown",
   "metadata": {},
   "source": [
    "Ejercicio 3\n",
    "Escribir un programa que pida al usuario dos números y muestre por pantalla su división. Si el divisor es cero el programa debe mostrar un error."
   ]
  },
  {
   "cell_type": "code",
   "execution_count": 9,
   "metadata": {},
   "outputs": [
    {
     "name": "stdin",
     "output_type": "stream",
     "text": [
      "Ingrese un numero a dividir:  50\n",
      "Ingrese un divisor:  5\n"
     ]
    },
    {
     "name": "stdout",
     "output_type": "stream",
     "text": [
      "El resultado de la division es :  10\n"
     ]
    }
   ],
   "source": [
    "dividendo = int(input(\"Ingrese un numero a dividir: \"))\n",
    "divisor = int(input(\"Ingrese un divisor: \"))\n",
    "\n",
    "if divisor == 0:\n",
    "    print(\"Error, el divisor no puede ser 0\")\n",
    "else: \n",
    "    resultado = int(dividendo/divisor)\n",
    "    print(\"El resultado de la division es : \" , (resultado))\n"
   ]
  },
  {
   "cell_type": "code",
   "execution_count": null,
   "metadata": {},
   "outputs": [],
   "source": []
  }
 ],
 "metadata": {
  "kernelspec": {
   "display_name": "Python 3",
   "language": "python",
   "name": "python3"
  },
  "language_info": {
   "codemirror_mode": {
    "name": "ipython",
    "version": 3
   },
   "file_extension": ".py",
   "mimetype": "text/x-python",
   "name": "python",
   "nbconvert_exporter": "python",
   "pygments_lexer": "ipython3",
   "version": "3.8.5"
  }
 },
 "nbformat": 4,
 "nbformat_minor": 4
}
